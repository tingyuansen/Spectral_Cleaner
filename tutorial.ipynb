{
 "cells": [
  {
   "cell_type": "markdown",
   "metadata": {},
   "source": [
    "** This file gives a brief overview of the capabilities of the code. **\n",
    "\n",
    "* The codes fit red arm spectra from Magellan/MIKE. \n",
    "\n",
    "* Since the codes are meant to be clean and minimal, it should not be hard to tweak the source codes for other purposes (say fitting the blue arm spectrum).\n",
    "\n",
    "* The code fit for basic stellar parameters (Teff, logg, [Fe/H], [$\\alpha$/Fe]), the broadening $v_{\\rm broad}$, radial velocity, and continuum, to all spectral orders, simultaneously.\n",
    "\n",
    "* Note that we does not assume any spectral mask here. Due to the imperfectness of Kurucz models, there will be non-negligible systematics. To mitigate that and impose your favorite spectral mask, simply set spectrum_err to large values (e.g., 999) to wavelength regions that you want mask out."
   ]
  },
  {
   "cell_type": "code",
   "execution_count": 1,
   "metadata": {},
   "outputs": [],
   "source": [
    "%matplotlib inline\n",
    "\n",
    "# import packages\n",
    "import numpy as np\n",
    "from scipy.optimize import curve_fit\n",
    "from scipy import interpolate\n",
    "from scipy import signal\n",
    "from scipy.stats import norm\n",
    "import time \n",
    "\n",
    "import matplotlib\n",
    "import matplotlib.pyplot as plt\n",
    "import matplotlib.colors as colors\n",
    "import matplotlib.cm as cm\n",
    "from matplotlib import gridspec\n",
    "\n",
    "from cycler import cycler\n",
    "\n",
    "# import The Payne (https://github.com/tingyuansen/The_Payne)\n",
    "from Payne4MIKE import spectral_model\n",
    "from Payne4MIKE import utils\n",
    "from Payne4MIKE import fitting\n",
    "from Payne4MIKE.read_spectrum import read_carpy_fits\n"
   ]
  },
  {
   "cell_type": "code",
   "execution_count": 2,
   "metadata": {},
   "outputs": [],
   "source": [
    "# define plot properties\n",
    "import matplotlib.cm as cm\n",
    "\n",
    "from matplotlib import rcParams\n",
    "from matplotlib import rc\n",
    "from mpl_toolkits.axes_grid1 import make_axes_locatable\n",
    "\n",
    "def rgb(r,g,b):\n",
    "    return (float(r)/256.,float(g)/256.,float(b)/256.)\n",
    "\n",
    "cb2 = [rgb(31,120,180), rgb(255,127,0), rgb(51,160,44), rgb(227,26,28), \\\n",
    "       rgb(10,10,10), rgb(253,191,111), rgb(178,223,138), rgb(251,154,153)]\n",
    "\n",
    "rcParams['figure.figsize'] = (11,7.5)\n",
    "rcParams['figure.dpi'] = 300\n",
    "\n",
    "rcParams['lines.linewidth'] = 1\n",
    "\n",
    "rcParams['axes.prop_cycle'] = cycler('color', cb2)\n",
    "rcParams['axes.facecolor'] = 'white'\n",
    "rcParams['axes.grid'] = False\n",
    "\n",
    "rcParams['patch.facecolor'] = cb2[0]\n",
    "rcParams['patch.edgecolor'] = 'white'\n",
    "\n",
    "rcParams['font.family'] = 'Bitstream Vera Sans' \n",
    "rcParams['font.size'] = 25\n",
    "rcParams['font.weight'] = 300\n"
   ]
  },
  {
   "cell_type": "markdown",
   "metadata": {},
   "source": [
    "> Restore The Payne emulator."
   ]
  },
  {
   "cell_type": "code",
   "execution_count": 3,
   "metadata": {},
   "outputs": [],
   "source": [
    "# assuming Kurucz models\n",
    "NN_coeffs, wavelength_payne = utils.read_in_neural_network()\n",
    "w_array_0, w_array_1, w_array_2, b_array_0, b_array_1, b_array_2, x_min, x_max = NN_coeffs\n"
   ]
  },
  {
   "cell_type": "markdown",
   "metadata": {},
   "source": [
    "> Read in MIKE spectra."
   ]
  },
  {
   "cell_type": "code",
   "execution_count": 4,
   "metadata": {},
   "outputs": [
    {
     "name": "stderr",
     "output_type": "stream",
     "text": [
      "/Users/yting/Payne4MIKE/Payne4MIKE/read_spectrum.py:98: RuntimeWarning: divide by zero encountered in power\n",
      "  ivar = image[0].data[noise_ext]**(-2)\n"
     ]
    }
   ],
   "source": [
    "# an example of a MIKE spectrum to be fitted\n",
    "wavelength, spectrum, spectrum_err = utils.read_in_example()\n",
    "\n",
    "# or restore your own here\n",
    "#read_path =  \"star-109red_multi.fits\"\n",
    "#wavelength, spectrum, spectrum_err = read_carpy_fits(read_path)\n",
    "\n",
    "#-----------------------------------------------------------------------------------\n",
    "# restore a default hot star spectrum to determine telluric features\n",
    "wavelength_blaze, spectrum_blaze, spectrum_err_blaze = utils.read_in_blaze_spectrum()\n",
    "\n",
    "# or restore your own here\n",
    "#read_path =  \"Hot_Star_HR9087.fits\"\n",
    "#wavelength_blaze, spectrum_blaze, spectrum_err_blaze = read_carpy_fits(read_path)\n",
    "\n",
    "#-----------------------------------------------------------------------------------\n",
    "# match the order, some times reduction can drop some of the orders for low S/N data\n",
    "dist = np.abs(wavelength[:, np.newaxis] - wavelength_blaze)\n",
    "potentialClosest = dist.argmin(axis=1)[:,0]\n",
    "wavelength_blaze = wavelength_blaze[potentialClosest,:]\n",
    "spectrum_blaze = spectrum_blaze[potentialClosest,:]\n",
    "spectrum_err_blaze = spectrum_err_blaze[potentialClosest,:]\n"
   ]
  },
  {
   "cell_type": "markdown",
   "metadata": {},
   "source": [
    "> Massaging the spectra into a digestable format."
   ]
  },
  {
   "cell_type": "code",
   "execution_count": 5,
   "metadata": {},
   "outputs": [],
   "source": [
    "# cull nonsensible values\n",
    "spectrum = np.abs(spectrum)\n",
    "spectrum_blaze = np.abs(spectrum_blaze)\n",
    "\n",
    "# rescale the spectra by its median so it has a more reasonable y-range\n",
    "spectrum, spectrum_err = utils.scale_spectrum_by_median(spectrum, spectrum_err)\n",
    "spectrum_blaze, spectrum_err_blaze = utils.scale_spectrum_by_median(spectrum_blaze, spectrum_err_blaze)\n",
    "\n",
    "# eliminate zero values in the blaze function to avoid dividing with zeros\n",
    "# the truncation is quite aggresive, can be improved if needed\n",
    "ind_valid = np.min(np.abs(spectrum_blaze), axis=0) != 0\n",
    "spectrum_blaze = spectrum_blaze[:,ind_valid]\n",
    "spectrum_err_blaze = spectrum_err_blaze[:,ind_valid]\n",
    "wavelength_blaze = wavelength_blaze[:,ind_valid]\n",
    "\n",
    "# match the wavelength (blaze -> spectrum)\n",
    "spectrum_blaze, wavelength_blaze = utils.match_blaze_to_spectrum(wavelength, spectrum, wavelength_blaze, spectrum_blaze)\n",
    "\n",
    "# use the blaze to determine telluric region\n",
    "smooth_length = 30 # number of pixel in a block that we use to search for telluric features\n",
    "threshold = 0.9\n",
    "spectrum_err = utils.mask_telluric_region(spectrum_err, spectrum_blaze, smooth_length=30, threshold=0.9)\n"
   ]
  },
  {
   "cell_type": "markdown",
   "metadata": {},
   "source": [
    "> Fit the spectrum."
   ]
  },
  {
   "cell_type": "code",
   "execution_count": 6,
   "metadata": {},
   "outputs": [
    {
     "name": "stdout",
     "output_type": "stream",
     "text": [
      "Pre Fit: Finding the best radial velocity initialization\n",
      "1 / 21\n",
      "2 / 21\n",
      "3 / 21\n",
      "4 / 21\n",
      "5 / 21\n",
      "6 / 21\n",
      "7 / 21\n",
      "8 / 21\n",
      "9 / 21\n",
      "10 / 21\n",
      "11 / 21\n",
      "12 / 21\n",
      "13 / 21\n",
      "14 / 21\n",
      "15 / 21\n",
      "16 / 21\n",
      "17 / 21\n",
      "18 / 21\n",
      "19 / 21\n",
      "20 / 21\n",
      "21 / 21\n",
      "Pre Fit: Fitting the blaze-normalized spectrum\n",
      "1 / 1\n",
      "Pre Fit: Finding the best continuum initialization\n",
      "Final Fit: Fitting the whole spectrum with all parameters simultaneously\n",
      "1 / 1\n",
      "Run Time :  862.9925639629364  s\n",
      "[Teff [K], logg, Fe/H, Alpha/Fe] =  4641.0 0.91 -0.51 -0.19\n",
      "vbroad [km/s] =  2.0\n",
      "RV [km/s] =  -39.7\n",
      "Chi square =  11.492441417460423\n"
     ]
    }
   ],
   "source": [
    "# the range of RV that we will search (in the unit of 100 km/s)\n",
    "# expand/refine the range of RV if the fit is stuck in a local minimum\n",
    "RV_array=np.linspace(-2,2.,21)\n",
    "\n",
    "# set boundaries for the fit [Teff [1000K], logg, Fe/H, Alpha/Fe, vbroad, RV [100 km/s]]\n",
    "bounds = None\n",
    "\n",
    "# teff_min, teff_max = x_min[0], x_max[0]\n",
    "# logg_min, logg_max = x_min[1], x_max[1]\n",
    "# feh_min, feh_max = x_min[2], x_max[2]\n",
    "# alphafe_min, alphafe_max = x_min[3], x_max[3]\n",
    "# vbroad_min, vbroad_max = 0.1, 10.\n",
    "# RV_min, RV_max = -2., 2.\n",
    "\n",
    "# bounds = np.zeros((2,6))\n",
    "# bounds[0,0] = (teff_min - x_min[0])/(x_max[0]-x_min[0]) - 0.5\n",
    "# bounds[1,0] = (teff_max - x_min[0])/(x_max[0]-x_min[0]) - 0.5\n",
    "# bounds[0,1] = (logg_min - x_min[1])/(x_max[1]-x_min[1]) - 0.5\n",
    "# bounds[1,1] = (logg_max - x_min[1])/(x_max[1]-x_min[1]) - 0.5\n",
    "# bounds[0,2] = (feh_min - x_min[2])/(x_max[2]-x_min[2]) - 0.5\n",
    "# bounds[1,2] = (feh_max - x_min[2])/(x_max[2]-x_min[2]) - 0.5\n",
    "# bounds[0,3] = (alphafe_min - x_min[3])/(x_max[3]-x_min[3]) - 0.5\n",
    "# bounds[1,3] = (alphafe_max - x_min[3])/(x_max[3]-x_min[3]) - 0.5\n",
    "# bounds[0,-2] = vbroad_min\n",
    "# bounds[1,-2] = vbroad_max\n",
    "# bounds[0,-1] = RV_min\n",
    "# bounds[1,-1] = RV_max\n",
    "\n",
    "# perfort the fit\n",
    "start_time = time.time()\n",
    "popt_best, model_spec_best, chi_square = fitting.fit_global(spectrum, spectrum_err, spectrum_blaze, wavelength,\\\n",
    "                                                            NN_coeffs, wavelength_payne, RV_array=RV_array,\\\n",
    "                                                            polynomial_order=6, bounds_set=bounds)\n",
    "print('Run Time : ', time.time()-start_time, ' s')\n",
    "\n",
    "# save the results\n",
    "np.savez(\"popt_best.npz\",\\\n",
    "         popt_best=popt_best,\\\n",
    "         model_spec_best=model_spec_best,\\\n",
    "         chi_square=chi_square)\n",
    "\n",
    "# print the best fit parameters\n",
    "popt_best[:4] = (popt_best[:4] + 0.5)*(x_max-x_min) + x_min\n",
    "popt_best[0] = popt_best[0]*1000.\n",
    "print(\"[Teff [K], logg, Fe/H, Alpha/Fe] = \",\\\n",
    "      int(popt_best[0]*1.)/1.,\\\n",
    "      int(popt_best[1]*100.)/100.,\\\n",
    "      int(popt_best[2]*100.)/100.,\\\n",
    "      int(popt_best[3]*100.)/100.)\n",
    "print(\"vbroad [km/s] = \", int(popt_best[-2]*10.)/10.)\n",
    "print(\"RV [km/s] = \", int(popt_best[-1]*1000.)/10.)\n",
    "print(\"Chi square = \", chi_square)\n"
   ]
  },
  {
   "cell_type": "markdown",
   "metadata": {},
   "source": [
    "> Plot the fits.\n",
    "\n",
    "The telluric region is shaded in gray.\n",
    "\n",
    "Blue is the observed spectrum, orange is the prediction +- the observation uncertainties."
   ]
  },
  {
   "cell_type": "code",
   "execution_count": null,
   "metadata": {},
   "outputs": [
    {
     "name": "stderr",
     "output_type": "stream",
     "text": [
      "findfont: Font family ['Bitstream Vera Sans'] not found. Falling back to DejaVu Sans.\n",
      "findfont: Font family ['Bitstream Vera Sans'] not found. Falling back to DejaVu Sans.\n",
      "findfont: Font family ['Bitstream Vera Sans'] not found. Falling back to DejaVu Sans.\n"
     ]
    }
   ],
   "source": [
    "# make plot for individual order\n",
    "for k in range(wavelength.shape[0]):\n",
    "    fig = plt.figure(figsize=[18,20]);\n",
    "    ax = fig.add_subplot(111)\n",
    "    ax.spines['top'].set_color('none')\n",
    "    ax.spines['bottom'].set_color('none')\n",
    "    ax.spines['left'].set_color('none')\n",
    "    ax.spines['right'].set_color('none')\n",
    "    ax.tick_params(labelcolor='w', top='off', bottom='off', left='off', right='off')\n",
    "\n",
    "#----------------------------------------------------------------------\n",
    "    # zooming in the wavelength by plotting in a few panels\n",
    "    for i in range(5):\n",
    "    \n",
    "        # wavelength range\n",
    "        wavelength_min = np.min(wavelength[k,:])-10.\n",
    "        wavelength_max = np.max(wavelength[k,:])+10.\n",
    "        wave_period = (wavelength_max-wavelength_min)/5.\n",
    "    \n",
    "        # the yaxis range\n",
    "        spec_min = np.min(spectrum[k,:])\n",
    "        spec_max = np.max(spectrum[k,:])\n",
    "        \n",
    "        ax = fig.add_subplot(5,1,i+1)\n",
    "        plt.xlim([wavelength_min+wave_period*(i),wavelength_min+wave_period*(i+1)])\n",
    "        plt.ylim([spec_min-0.2,spec_max+0.2])\n",
    "        \n",
    "        # observe spectrum\n",
    "        plt.plot(wavelength[k,:], spectrum[k,:], lw=2, label=\"MIKE\", color=cb2[0])\n",
    "        \n",
    "        # best prediction\n",
    "        plt.plot(wavelength[k,:], model_spec_best[k,:], label=\"Kurucz\", lw=2, color=cb2[1])\n",
    "        \n",
    "        # plotting errors\n",
    "        plt.fill_between(wavelength[k,:], model_spec_best[k,:]-spectrum_err[k,:],\\\n",
    "                         model_spec_best[k,:]+spectrum_err[k,:], alpha=0.5, color=cb2[1])\n",
    "    \n",
    "        # shade the telluric region in gray\n",
    "        telluric_region = np.where(spectrum_err[k,:] == 999.)[0]\n",
    "        start_telluric = np.where(np.diff(telluric_region) != 1)[0] ## find the blocks\n",
    "        start_telluric = np.concatenate([[0], start_telluric+1, [telluric_region.size-1]])\n",
    "        for m in range(start_telluric.size-1):\n",
    "            telluric_block = wavelength[k,telluric_region[start_telluric[m]:start_telluric[m+1]]]\n",
    "            num_telluric = telluric_block.size\n",
    "            plt.fill_between(telluric_block, np.ones(num_telluric)*-10., np.ones(num_telluric)*10.,\\\n",
    "                             alpha=0.5, color=\"gray\")\n",
    "        \n",
    "#----------------------------------------------------------------------\n",
    "    # add axis and legend\n",
    "    plt.xlabel(\"Wavelength [A]\")\n",
    "    plt.legend(loc=\"lower right\", fontsize=28, frameon=False,\\\n",
    "                borderpad=0.05, labelspacing=0.1)\n",
    "\n",
    "    # save figure\n",
    "    plt.tight_layout()\n",
    "    plt.savefig(\"Order_\" +str(k+1) + \".png\")\n",
    "    plt.close()"
   ]
  },
  {
   "cell_type": "code",
   "execution_count": null,
   "metadata": {},
   "outputs": [],
   "source": []
  },
  {
   "cell_type": "code",
   "execution_count": null,
   "metadata": {},
   "outputs": [],
   "source": []
  }
 ],
 "metadata": {
  "kernelspec": {
   "display_name": "Python 3",
   "language": "python",
   "name": "python3"
  },
  "language_info": {
   "codemirror_mode": {
    "name": "ipython",
    "version": 3
   },
   "file_extension": ".py",
   "mimetype": "text/x-python",
   "name": "python",
   "nbconvert_exporter": "python",
   "pygments_lexer": "ipython3",
   "version": "3.7.6"
  }
 },
 "nbformat": 4,
 "nbformat_minor": 2
}
